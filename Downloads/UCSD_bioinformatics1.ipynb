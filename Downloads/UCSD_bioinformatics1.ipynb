{
 "cells": [
  {
   "cell_type": "code",
   "execution_count": 1,
   "metadata": {
    "collapsed": false
   },
   "outputs": [
   ],
   "source": [
    "import numpy as np"
   ]
  },
  {
   "cell_type": "code",
   "execution_count": 2,
   "metadata": {
    "collapsed": false
   },
   "outputs": [
   ],
   "source": [
    "def create_profile_matrix(motifs): #laplace\n",
    "    profile = []\n",
    "    for j in range(len(motifs[0])):\n",
    "        counts = np.array([0, 0, 0, 0])\n",
    "        for i in range(len(motifs)):\n",
    "            if (motifs[i][j] == 'A'):\n",
    "                counts[0] += 1\n",
    "            elif (motifs[i][j] == 'C'):\n",
    "                counts[1] += 1\n",
    "            elif (motifs[i][j] == 'G'):\n",
    "                counts[2] += 1\n",
    "            else: # T\n",
    "                counts[3] += 1\n",
    "            counts = counts + 1\n",
    "        profile.append(counts/(counts[0] + counts[1] + counts[2] + counts[3]))\n",
    "    return np.transpose(profile)"
   ]
  },
  {
   "cell_type": "code",
   "execution_count": 6,
   "metadata": {
    "collapsed": false
   },
   "outputs": [
   ],
   "source": [
    "def compute_pr(text, profile):\n",
    "    product = 1\n",
    "    i = 0\n",
    "    for nucleotide in text:\n",
    "        #print(nucleotide)\n",
    "        if (nucleotide == 'A'):\n",
    "            product *= profile[0,i]\n",
    "        elif (nucleotide == 'C'):\n",
    "            product *= profile[1,i]\n",
    "        elif (nucleotide == 'G'):\n",
    "            product *= profile[2,i]\n",
    "        else:\n",
    "            product *= profile[3,i]\n",
    "        i += 1\n",
    "    return product"
   ]
  },
  {
   "cell_type": "code",
   "execution_count": 7,
   "metadata": {
    "collapsed": false
   },
   "outputs": [
   ],
   "source": [
    "def profile_most_probable_kmer(text, k, profile):\n",
    "    probabilities = []\n",
    "    for i in range(len(text)-k+1):\n",
    "        prob = compute_pr(text[i:i+k], profile)\n",
    "        probabilities.append(prob)\n",
    "    j = probabilities.index(max(probabilities))\n",
    "    return text[j:j+k]"
   ]
  },
  {
   "cell_type": "code",
   "execution_count": 8,
   "metadata": {
    "collapsed": false
   },
   "outputs": [
   ],
   "source": [
    "def motifs(profile, Dna):\n",
    "    kmer_collection = []\n",
    "    for strand in Dna:\n",
    "        kmer_collection.append(profile_most_probable_kmer(strand, len(profile[0]), profile))\n",
    "    return kmer_collection"
   ]
  },
  {
   "cell_type": "code",
   "execution_count": 9,
   "metadata": {
    "collapsed": false
   },
   "outputs": [
   ],
   "source": [
    "def hamming_dist(str1, str2): #assume equal length\n",
    "    '''\n",
    "    The number of mismatches between strings p and q\n",
    "    is called the hamming distance between these\n",
    "    strings and is denoted hamming_dist(p, q).\n",
    "\n",
    "    Input: Two strings of equal length.\n",
    "    Output: The Hamming distance between these\n",
    "    strings.\n",
    "    '''\n",
    "    dist = 0\n",
    "    for i in range(len(str1)):\n",
    "        if (str1[i] != str2[i]):\n",
    "            dist +=1\n",
    "    return dist"
   ]
  },
  {
   "cell_type": "code",
   "execution_count": 10,
   "metadata": {
    "collapsed": false
   },
   "outputs": [
   ],
   "source": [
    "def score(motifs):\n",
    "    '''\n",
    "    Define score(motifs) as the number of unpopular\n",
    "    letters/nucleotides in a motif matrix 'motifs'.\n",
    "    '''\n",
    "    consensus = ''\n",
    "    profile = create_profile_matrix(motifs)\n",
    "    profile_len = len(profile[0])\n",
    "    for i in range(profile_len):\n",
    "        maximum = max(profile[:,i])\n",
    "        if (maximum == profile[0,i]):\n",
    "            consensus += 'A'\n",
    "        elif (maximum == profile[1,i]):\n",
    "            consensus += 'C'\n",
    "        elif (maximum == profile[2,i]):\n",
    "            consensus += 'G'\n",
    "        else: #T\n",
    "            consensus += 'T'\n",
    "    score = 0\n",
    "    for motif in motifs:\n",
    "        score += hamming_dist(consensus, motif)\n",
    "    return score"
   ]
  },
  {
   "cell_type": "code",
   "execution_count": 28,
   "metadata": {
    "collapsed": false
   },
   "outputs": [
   ],
   "source": [
    "def randomized_motif_search(Dna, k, t):\n",
    "    '''\n",
    "    Input: Integers k and t, followed by a collection\n",
    "    of strings Dna.\n",
    "    Output: A collection BestMotifs.\n",
    "    '''\n",
    "    motif_list = []\n",
    "    for strand in Dna:\n",
    "        rand_index = np.random.randint(0, len(strand) - k + 1)\n",
    "        motif_list.append(strand[rand_index:rand_index + k])\n",
    "    best_motifs = motif_list[:]\n",
    "    while 0 < 1:\n",
    "        profile = create_profile_matrix(motif_list)\n",
    "        motif_list = motifs(profile, Dna)\n",
    "        if score(motif_list) < score(best_motifs):\n",
    "            best_motifs = motif_list[:]\n",
    "        else:\n",
    "            return best_motifs"
   ]
  },
  {
   "cell_type": "code",
   "execution_count": 95,
   "metadata": {
    "collapsed": false
   },
   "outputs": [
   ],
   "source": [
    "def randomized_motif_search_quiz(Dna, k, t):\n",
    "    motif_list = ['GTC','CCC','ATA','GCT']\n",
    "    best_motifs = motif_list[:]\n",
    "    i = 0\n",
    "    while 0 < 1:\n",
    "        print(i)\n",
    "        profile = create_profile_matrix(motif_list)\n",
    "        motif_list = motifs(profile, Dna)\n",
    "        print(motif_list)\n",
    "        if score(motif_list) < score(best_motifs):\n",
    "            best_motifs = motif_list[:]\n",
    "            i += 1\n",
    "        else:\n",
    "            return best_motifs"
   ]
  },
  {
   "cell_type": "code",
   "execution_count": 13,
   "metadata": {
    "collapsed": false
   },
   "outputs": [
   ],
   "source": [
    "def run_randomized_motif_search_1000(Dna, k, t):\n",
    "    '''\n",
    "    Input: Integers k and t, followed by a collection\n",
    "    of strings Dna.\n",
    "    Output: A collection BestMotifs.resulting from\n",
    "    running RandomizedMotifSearch(Dna, k, t) 1,000\n",
    "    times.\n",
    "    '''\n",
    "    last_motifs = randomized_motif_search(Dna, k, t)\n",
    "    for i in range(1000):\n",
    "        best_motifs = randomized_motif_search(Dna, k, t)\n",
    "        if score(best_motifs) < score(last_motifs):\n",
    "            last_motifs = best_motifs[:]\n",
    "    return last_motifs"
   ]
  },
  {
   "cell_type": "code",
   "execution_count": 35,
   "metadata": {
    "collapsed": false
   },
   "outputs": [
   ],
   "source": [
    "from random import choice\n",
    "from random import choices"
   ]
  },
  {
   "cell_type": "code",
   "execution_count": 262,
   "metadata": {
    "collapsed": false
   },
   "outputs": [
   ],
   "source": [
    "def profile_randomly_generated_kmer(text, k, profile):\n",
    "    probabilities = []\n",
    "    for i in range(len(text)-k+1):\n",
    "        prob = compute_pr(text[i:i+k], profile)\n",
    "        probabilities.append(prob)\n",
    "    j = choices(range(len(probabilities)), weights=probabilities/sum(probabilities))[0]\n",
    "    return text[j:j+k]"
   ]
  },
  {
   "cell_type": "code",
   "execution_count": 1,
   "metadata": {
    "collapsed": false
   },
   "outputs": [
   ],
   "source": [
    "def gibbs_sampler(Dna, k, t, N):\n",
    "    '''\n",
    "    GibbsSampler uses this random number generator to\n",
    "    select a Profile-randomly generated kmer at each\n",
    "    step: if the die rolls the number i, then we\n",
    "    define the Profile-randomly generated k-mer as\n",
    "    the i-th k-mer in Text.\n",
    "\n",
    "    Input: Integers k, t, and N, followed by a \n",
    "    collection of strings Dna.\n",
    "    Output: The strings BestMotifs resulting from\n",
    "    running GibbsSampler(Dna, k, t, N).\n",
    "    '''\n",
    "    motif_list = []\n",
    "    for strand in Dna:\n",
    "        rand_index = np.random.randint(0, len(strand) - k + 1)\n",
    "        motif_list.append(strand[rand_index:rand_index + k])\n",
    "    best_motifs = motif_list[:]\n",
    "    for j in range(N):\n",
    "        i = np.random.randint(0,t)\n",
    "        motif_list.pop(i)\n",
    "        profile = create_profile_matrix(motif_list)\n",
    "        motif_list.insert(i, profile_randomly_generated_kmer(Dna[i], k, profile))\n",
    "        if score(motif_list) < score(best_motifs):\n",
    "            best_motifs = motif_list[:]\n",
    "    return best_motifs"
   ]
  },
  {
   "cell_type": "code",
   "execution_count": 85,
   "metadata": {
    "collapsed": false
   },
   "outputs": [
   ],
   "source": [
    "def run_gibb_sampler_20(Dna, k, t, N):\n",
    "    '''\n",
    "    Runs gibbs sampler with 20 random\n",
    "    starts.\n",
    "    '''\n",
    "    last_motifs = gibbs_sampler(Dna, k, t, N)\n",
    "    for i in range(20):\n",
    "        best_motifs = gibbs_sampler(Dna, k, t, N)\n",
    "        if score(best_motifs) < score(last_motifs):\n",
    "            last_motifs = best_motifs[:]\n",
    "            print(score(best_motifs))\n",
    "    return last_motifs"
   ]
  }
 ],
 "metadata": {
  "kernelspec": {
   "display_name": "Python 3 (system-wide)",
   "language": "python",
   "metadata": {
    "cocalc": {
     "description": "Python 3 programming language",
     "priority": 100,
     "url": "https://www.python.org/"
    }
   },
   "name": "python3",
   "resource_dir": "/ext/jupyter/kernels/python3"
  },
  "language_info": {
   "codemirror_mode": {
    "name": "ipython",
    "version": 3
   },
   "file_extension": ".py",
   "mimetype": "text/x-python",
   "name": "python",
   "nbconvert_exporter": "python",
   "pygments_lexer": "ipython3",
   "version": "3.6.9"
  }
 },
 "nbformat": 4,
 "nbformat_minor": 4
}